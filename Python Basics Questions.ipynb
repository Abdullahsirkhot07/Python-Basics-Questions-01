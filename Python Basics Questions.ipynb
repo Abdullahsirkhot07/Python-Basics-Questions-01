{
 "cells": [
  {
   "cell_type": "raw",
   "id": "030cfeeb-f0b2-4fa3-8407-78efdcf7c14f",
   "metadata": {},
   "source": [
    "Python Basics Questions"
   ]
  },
  {
   "cell_type": "raw",
   "id": "e20e9445-d222-42b9-b5ea-36ca80412ddf",
   "metadata": {},
   "source": [
    "Question (1)  \n",
    "\n",
    "       ans :- Python is a high-level, general-purpose programming language that was created by Guido van Rossum and released in 1991. It is designed to be easy to read and write, using simple and clear syntax — which makes it a great choice for beginners and professionals alike.\n",
    "\n",
    "Here’s why Python is popular:\n",
    "\n",
    "Easy to Learn and Use\n",
    "\n",
    "1- Python has simple syntax similar to the English language, making it beginner-friendly.\n",
    "\n",
    "\n",
    "\n",
    "2- Versatile Applications\n",
    "\n",
    "Python is used in web development, data science, machine learning, automation, artificial intelligence, finance, and more.\n",
    "\n",
    "\n",
    "\n",
    "3- Huge Community Support\n",
    "\n",
    "There are millions of Python developers worldwide, offering libraries, frameworks, and help.\n",
    "\n",
    "\n",
    "\n",
    "4- Extensive Libraries and Frameworks\n",
    "\n",
    "Libraries like Pandas, TensorFlow, Django, and Flask save developers a lot of time.\n",
    "\n",
    "\n",
    "\n",
    "5- Cross-Platform Compatibility\n",
    "\n",
    "Python works on Windows, macOS, and Linux with little or no changes neededb."
   ]
  },
  {
   "cell_type": "raw",
   "id": "1780fb06-df6d-4944-b5e7-a9e0e70f48a4",
   "metadata": {},
   "source": [
    "Question (2)\n",
    "    ans:- In Python, an interpreter is a program that reads, understands, and executes Python code line by line, instead of compiling the whole code into machine language at once like a compiler does."
   ]
  },
  {
   "cell_type": "raw",
   "id": "8b06ed6c-8b06-4984-8f24-7787ea8b8424",
   "metadata": {},
   "source": [
    "Question (3)\n",
    "    ans:- In Python, predefined keywords are special words that are reserved because they have a specific meaning to the Python interpreter.\n",
    "You cannot use them for naming variables, functions, or anything else.\n",
    "\n",
    "For example, words like if, else, for, while, class, def, and return are all predefined keywords."
   ]
  },
  {
   "cell_type": "raw",
   "id": "257e313d-5239-48e9-b8ad-cf94740a00c8",
   "metadata": {},
   "source": [
    "Question (4)\n",
    "    ans:- No, in Python, keywords cannot be used as variable names because they are reserved for special meanings in the language."
   ]
  },
  {
   "cell_type": "raw",
   "id": "5608b933-65e5-4948-806f-1c95edf47ae1",
   "metadata": {},
   "source": [
    "Question (5)\n",
    "    ans:- In Python, mutability refers to whether or not an object’s value can be changed after it is created."
   ]
  },
  {
   "cell_type": "raw",
   "id": "64e682a7-36f9-4ce1-97b6-b7341f3b2d85",
   "metadata": {},
   "source": [
    "Question (6)\n",
    "    ans:- In Python:\n",
    "\n",
    "Lists are mutable because they are designed to allow changes — you can add, remove, or modify elements.\n",
    "\n",
    "Tuples are immutable because they are designed to be fixed collections — once created, you cannot change their content."
   ]
  },
  {
   "cell_type": "raw",
   "id": "c679bcc9-e696-4a17-a968-bb28f273f54c",
   "metadata": {},
   "source": [
    "Question (7)\n",
    "    ans:- In Python, == and is are different operators:\n",
    "\n",
    "\n",
    "Operator\tMeaning\tExample\tResult\n",
    "==\tChecks if two values are equal (compares contents)\t5 == 5\tTrue\n",
    "is\tChecks if two variables point to the same object in memory\ta is b\tTrue only if both are exactly the same object"
   ]
  },
  {
   "cell_type": "raw",
   "id": "18d02409-851a-45e6-95cc-f17dc851b845",
   "metadata": {},
   "source": [
    "Question (8)\n",
    "    ans:- In Python, logical operators are used to combine conditional statements (conditions that are either True or False).\n"
   ]
  },
  {
   "cell_type": "raw",
   "id": "265082ad-c040-4826-ba34-f555910d92d7",
   "metadata": {},
   "source": [
    "Question (9)\n",
    "    ans:- In Python, typecasting means converting one data type into another — like turning a string into an integer, or a float into a string."
   ]
  },
  {
   "cell_type": "raw",
   "id": "31418882-a68e-43d3-8eb0-a0050614f4e0",
   "metadata": {},
   "source": [
    "Question (10)\n",
    "    ans :- In Python, implicit and explicit typecasting are two ways of converting data types:\n",
    "\n",
    "\n",
    "Typecasting\tMeaning\tExample\tWho does it?\n",
    "\n",
    "1) Implicit\tPython automatically converts the type\tx = 5 + 2.0 → result is 7.0 (integer + float = float)\tPython\n",
    "\n",
    "2) Explicit\tYou manually convert the type using functions like int(), float(), str()\tx = int(2.9) → result is 2\tProgrammer\n"
   ]
  },
  {
   "cell_type": "raw",
   "id": "28ae4ce6-4160-4c4f-9fcd-28e9edf6161c",
   "metadata": {},
   "source": [
    "Question (11)\n",
    "    ans:- The purpose of conditional statements in Python is to allow the program to make decisions based on certain conditions (whether a condition is True or False). They help control the flow of the program by executing different blocks of code depending on the outcome of a condition."
   ]
  },
  {
   "cell_type": "raw",
   "id": "8a1105ad-204d-4e93-b962-33c0b2181dd4",
   "metadata": {},
   "source": [
    "Question (12)\n",
    "    ans:- How elif works:\n",
    "First, the if condition is checked.\n",
    "\n",
    "If the if condition is False, Python will check the elif conditions one by one, in the order they are written.\n",
    "\n",
    "If none of the conditions are True, the else block (if provided) is executed."
   ]
  },
  {
   "cell_type": "raw",
   "id": "018bf25a-f167-4d63-821b-ce4510994a0f",
   "metadata": {},
   "source": [
    "Question (13)\n",
    "    ans:- In Python, both for and while loops are used to repeat a block of code, but they differ in how they control the loop’s execution.\n",
    "\n",
    "1. for loop:\n",
    "Used when you know the number of iterations in advance or you are iterating over a sequence (like a list, string, or range).\n",
    "\n",
    "The loop variable takes each item from the sequence and executes the code block for each item.\n",
    "\n",
    "2. while loop:\n",
    "Used when you want to loop while a condition is True.\n",
    "\n",
    "It keeps running the code block until the condition becomes False."
   ]
  },
  {
   "cell_type": "raw",
   "id": "17e28698-7576-4494-9b08-dee65a0dfcc2",
   "metadata": {},
   "source": [
    "Question (14)\n",
    "    ans:- A while loop is more suitable than a for loop in situations where you don’t know how many iterations are needed in advance, and the loop should continue until a certain condition is met.\n",
    "\n",
    "Scenario: User Authentication (Login Attempt)\n",
    "Let's say you are building a simple user authentication system where you want to allow a user to try logging in multiple times, but you want to stop if the user enters the correct credentials or reaches a certain number of attempts.\n",
    "\n",
    "Here, a while loop is ideal because the number of login attempts is not fixed, but the loop will run until the user enters the correct password or exceeds the maximum allowed attempts. "
   ]
  },
  {
   "cell_type": "raw",
   "id": "a1b752e8-7b17-400a-a0e7-3e9e1ee592d0",
   "metadata": {},
   "source": [
    "Practical Question"
   ]
  },
  {
   "cell_type": "code",
   "execution_count": 1,
   "id": "f113b72f-d1be-46f6-ba81-b8b0da4b6d0e",
   "metadata": {},
   "outputs": [
    {
     "name": "stdout",
     "output_type": "stream",
     "text": [
      "Hello,World!\n"
     ]
    }
   ],
   "source": [
    "#question (1)\n",
    "print (\"Hello,World!\")"
   ]
  },
  {
   "cell_type": "code",
   "execution_count": 9,
   "id": "47db067c-c5db-4ba1-93e5-ddb352c99f74",
   "metadata": {},
   "outputs": [
    {
     "name": "stdin",
     "output_type": "stream",
     "text": [
      " name  abdullah sirkhot \n",
      " age 20 years old \n"
     ]
    }
   ],
   "source": [
    "#question (2)\n",
    "name = input(' name ')\n",
    "age = input (\" age\" )"
   ]
  },
  {
   "cell_type": "code",
   "execution_count": 13,
   "id": "d7a42397-8bf6-4877-bfab-a7bdd0b677ae",
   "metadata": {},
   "outputs": [
    {
     "name": "stdout",
     "output_type": "stream",
     "text": [
      "\n",
      "Here is a list of the Python keywords.  Enter any keyword to get more help.\n",
      "\n",
      "False               class               from                or\n",
      "None                continue            global              pass\n",
      "True                def                 if                  raise\n",
      "and                 del                 import              return\n",
      "as                  elif                in                  try\n",
      "assert              else                is                  while\n",
      "async               except              lambda              with\n",
      "await               finally             nonlocal            yield\n",
      "break               for                 not                 \n",
      "\n"
     ]
    }
   ],
   "source": [
    "#question (3)\n",
    "help(\"keywords\")"
   ]
  },
  {
   "cell_type": "code",
   "execution_count": 15,
   "id": "a8208350-d0f2-48d0-a4d4-da7a9dbd9d3a",
   "metadata": {},
   "outputs": [
    {
     "name": "stdin",
     "output_type": "stream",
     "text": [
      "Enter a word to check if it is a Python keyword:  lambda\n"
     ]
    },
    {
     "name": "stdout",
     "output_type": "stream",
     "text": [
      "'lambda' is a Python keyword.\n"
     ]
    }
   ],
   "source": [
    "#question (4)\n",
    "import keyword\n",
    "\n",
    "# Function to check if a word is a Python keyword\n",
    "def is_keyword(word):\n",
    "    if keyword.iskeyword(word):\n",
    "        print(f\"'{word}' is a Python keyword.\")\n",
    "    else:\n",
    "        print(f\"'{word}' is not a Python keyword.\")\n",
    "\n",
    "# Get input from the user\n",
    "word = input(\"Enter a word to check if it is a Python keyword: \")\n",
    "is_keyword(word)\n"
   ]
  },
  {
   "cell_type": "code",
   "execution_count": 26,
   "id": "53fa5058-409e-4c8d-b392-3c2ea149c5e4",
   "metadata": {},
   "outputs": [
    {
     "ename": "SyntaxError",
     "evalue": "invalid syntax (2592856939.py, line 2)",
     "output_type": "error",
     "traceback": [
      "\u001b[1;36m  Cell \u001b[1;32mIn[26], line 2\u001b[1;36m\u001b[0m\n\u001b[1;33m    Updated list: [10, 20, 50, 40]\u001b[0m\n\u001b[1;37m            ^\u001b[0m\n\u001b[1;31mSyntaxError\u001b[0m\u001b[1;31m:\u001b[0m invalid syntax\n"
     ]
    }
   ],
   "source": [
    "#question (5)\n",
    "Updated list: [10, 20, 50, 40]\n",
    "\n",
    "my_tuple = (10, 20, 30, 40)\n",
    "\n",
    "# Attempting to change an element (this will raise an error)\n",
    "try:\n",
    "    my_tuple[2] = 50  # Trying to change the 3rd element (index 2)\n",
    "except TypeError as e:\n",
    "    print(f\"Error: {e}\")\n",
    "Error: 'tuple' object does not support item assignment\n"
   ]
  },
  {
   "cell_type": "code",
   "execution_count": 28,
   "id": "f6b77ef4-69ea-4242-991b-7f369aa05620",
   "metadata": {},
   "outputs": [
    {
     "name": "stdout",
     "output_type": "stream",
     "text": [
      "Before modification:\n",
      "arg1 (immutable): 5\n",
      "arg2 (mutable): [1, 2, 3]\n",
      "\n",
      "Inside function after modification:\n",
      "arg1 (immutable): 15\n",
      "arg2 (mutable): [1, 2, 3, 100]\n",
      "\n",
      "Outside function:\n",
      "immutable_arg (outside function): 5\n",
      "mutable_arg (outside function): [1, 2, 3, 100]\n"
     ]
    }
   ],
   "source": [
    "#question (6)\n",
    "def demonstrate_mutable_immutable(arg1, arg2):\n",
    "    print(\"Before modification:\")\n",
    "    print(\"arg1 (immutable):\", arg1)\n",
    "    print(\"arg2 (mutable):\", arg2)\n",
    "\n",
    "    # Modify the mutable argument (list)\n",
    "    arg2.append(100)\n",
    "\n",
    "    # Modify the immutable argument (int)\n",
    "    arg1 += 10  # This creates a new value for arg1, it doesn't change the original\n",
    "\n",
    "    print(\"\\nInside function after modification:\")\n",
    "    print(\"arg1 (immutable):\", arg1)  # arg1 is modified locally, but original outside function is unchanged\n",
    "    print(\"arg2 (mutable):\", arg2)  # arg2 is modified, and original outside function is changed\n",
    "\n",
    "# Testing the function with mutable and immutable arguments\n",
    "immutable_arg = 5  # integer (immutable)\n",
    "mutable_arg = [1, 2, 3]  # list (mutable)\n",
    "\n",
    "# Call the function with immutable and mutable arguments\n",
    "demonstrate_mutable_immutable(immutable_arg, mutable_arg)\n",
    "\n",
    "# Check the values outside the function\n",
    "print(\"\\nOutside function:\")\n",
    "print(\"immutable_arg (outside function):\", immutable_arg)\n",
    "print(\"mutable_arg (outside function):\", mutable_arg)\n"
   ]
  },
  {
   "cell_type": "code",
   "execution_count": 30,
   "id": "356d110d-cc38-481f-b214-a82e7bd4d56e",
   "metadata": {},
   "outputs": [
    {
     "name": "stdin",
     "output_type": "stream",
     "text": [
      "Enter the first number:  3\n",
      "Enter the second number:  5\n"
     ]
    },
    {
     "name": "stdout",
     "output_type": "stream",
     "text": [
      "Addition: 3.0 + 5.0 = 8.0\n",
      "Subtraction: 3.0 - 5.0 = -2.0\n",
      "Multiplication: 3.0 * 5.0 = 15.0\n",
      "Division: 3.0 / 5.0 = 0.6\n"
     ]
    }
   ],
   "source": [
    "#Question (7)\n",
    " # Function to perform basic arithmetic operations\n",
    "def basic_arithmetic_operations(num1, num2):\n",
    "    # Addition\n",
    "    addition = num1 + num2\n",
    "    # Subtraction\n",
    "    subtraction = num1 - num2\n",
    "    # Multiplication\n",
    "    multiplication = num1 * num2\n",
    "    # Division with error handling\n",
    "    if num2 != 0:\n",
    "        division = num1 / num2\n",
    "    else:\n",
    "        division = \"Error: Division by zero is not allowed\"\n",
    "    \n",
    "    # Display the results\n",
    "    print(f\"Addition: {num1} + {num2} = {addition}\")\n",
    "    print(f\"Subtraction: {num1} - {num2} = {subtraction}\")\n",
    "    print(f\"Multiplication: {num1} * {num2} = {multiplication}\")\n",
    "    print(f\"Division: {num1} / {num2} = {division}\")\n",
    "\n",
    "# Input from user\n",
    "try:\n",
    "    num1 = float(input(\"Enter the first number: \"))\n",
    "    num2 = float(input(\"Enter the second number: \"))\n",
    "    \n",
    "    # Call the function to perform operations\n",
    "    basic_arithmetic_operations(num1, num2)\n",
    "except ValueError:\n",
    "    print(\"Invalid input! Please enter valid numbers.\")\n"
   ]
  },
  {
   "cell_type": "code",
   "execution_count": 32,
   "id": "5198a36f-f3b1-410b-882f-33be2d63e028",
   "metadata": {},
   "outputs": [
    {
     "name": "stdin",
     "output_type": "stream",
     "text": [
      "Enter the first number:  20\n",
      "Enter the second number:  25\n"
     ]
    },
    {
     "name": "stdout",
     "output_type": "stream",
     "text": [
      "Is 20 greater than 5 and 25 less than 10? False\n",
      "Is 20 greater than 5 or 25 less than 5? True\n",
      "Is it not true that 20 is greater than 25? True\n"
     ]
    }
   ],
   "source": [
    "#Question (8)\n",
    "# Function to demonstrate logical operators\n",
    "def logical_operators_demo(a, b):\n",
    "    # Using 'and' operator\n",
    "    and_result = (a > 5) and (b < 10)\n",
    "    \n",
    "    # Using 'or' operator\n",
    "    or_result = (a > 5) or (b < 5)\n",
    "    \n",
    "    # Using 'not' operator\n",
    "    not_result = not(a > b)\n",
    "\n",
    "    # Displaying the results\n",
    "    print(f\"Is {a} greater than 5 and {b} less than 10? {and_result}\")\n",
    "    print(f\"Is {a} greater than 5 or {b} less than 5? {or_result}\")\n",
    "    print(f\"Is it not true that {a} is greater than {b}? {not_result}\")\n",
    "\n",
    "# Input from user\n",
    "try:\n",
    "    a = int(input(\"Enter the first number: \"))\n",
    "    b = int(input(\"Enter the second number: \"))\n",
    "    \n",
    "    # Call the function to demonstrate logical operators\n",
    "    logical_operators_demo(a, b)\n",
    "except ValueError:\n",
    "    print(\"Invalid input! Please enter valid numbers.\")\n"
   ]
  },
  {
   "cell_type": "code",
   "execution_count": 34,
   "id": "ff1af957-624e-45a7-9ab7-4c47d0b8a33a",
   "metadata": {},
   "outputs": [
    {
     "name": "stdin",
     "output_type": "stream",
     "text": [
      "Enter a value:  35\n"
     ]
    },
    {
     "name": "stdout",
     "output_type": "stream",
     "text": [
      "The input as an integer: 35\n",
      "The input as a float: 35.0\n",
      "The input as a boolean: False\n"
     ]
    }
   ],
   "source": [
    "#Question (9)\n",
    "# Function to demonstrate conversion of input to different types\n",
    "def convert_input():\n",
    "    user_input = input(\"Enter a value: \")\n",
    "\n",
    "    try:\n",
    "        # Converting to integer\n",
    "        int_value = int(user_input)\n",
    "        print(f\"The input as an integer: {int_value}\")\n",
    "    except ValueError:\n",
    "        print(\"Could not convert to integer.\")\n",
    "\n",
    "    try:\n",
    "        # Converting to float\n",
    "        float_value = float(user_input)\n",
    "        print(f\"The input as a float: {float_value}\")\n",
    "    except ValueError:\n",
    "        print(\"Could not convert to float.\")\n",
    "    \n",
    "    # Converting to boolean\n",
    "    bool_value = user_input.lower() in ['true', '1', 't', 'y', 'yes']\n",
    "    print(f\"The input as a boolean: {bool_value}\")\n",
    "\n",
    "# Call the function\n",
    "convert_input()\n"
   ]
  },
  {
   "cell_type": "code",
   "execution_count": 36,
   "id": "826d060f-e094-45a3-b33a-e2b2d42b60fc",
   "metadata": {},
   "outputs": [
    {
     "name": "stdout",
     "output_type": "stream",
     "text": [
      "Original list (strings): ['10', '20.5', '30', '40.7']\n",
      "List with typecasted integers: [10, 20, 30, 40]\n",
      "List with typecasted floats: [10.0, 20.5, 30.0, 40.7]\n",
      "List with typecasted booleans: [True, True, True, True]\n"
     ]
    }
   ],
   "source": [
    "# Question (10)\n",
    "# Function to demonstrate typecasting with list elements\n",
    "def typecasting_with_list_elements():\n",
    "    # Example list of string elements\n",
    "    str_list = [\"10\", \"20.5\", \"30\", \"40.7\"]\n",
    "    \n",
    "    # Convert each element to an integer (if possible)\n",
    "    int_list = [int(x) if '.' not in x else int(float(x)) for x in str_list]\n",
    "    \n",
    "    # Convert each element to a float\n",
    "    float_list = [float(x) for x in str_list]\n",
    "    \n",
    "    # Convert each element to boolean (considering non-empty strings as True)\n",
    "    bool_list = [bool(x) for x in str_list]\n",
    "\n",
    "    # Display the results\n",
    "    print(\"Original list (strings):\", str_list)\n",
    "    print(\"List with typecasted integers:\", int_list)\n",
    "    print(\"List with typecasted floats:\", float_list)\n",
    "    print(\"List with typecasted booleans:\", bool_list)\n",
    "\n",
    "# Call the function\n",
    "typecasting_with_list_elements()\n"
   ]
  },
  {
   "cell_type": "code",
   "execution_count": 38,
   "id": "813a06ef-a8b7-4a39-877b-33e172ea21dd",
   "metadata": {},
   "outputs": [
    {
     "name": "stdin",
     "output_type": "stream",
     "text": [
      "Enter a number:  7\n"
     ]
    },
    {
     "name": "stdout",
     "output_type": "stream",
     "text": [
      "7.0 is a positive number.\n"
     ]
    }
   ],
   "source": [
    "#Question (11)\n",
    "# Function to check if a number is positive, negative, or zero\n",
    "def check_number():\n",
    "    try:\n",
    "        # Taking input from the user\n",
    "        num = float(input(\"Enter a number: \"))\n",
    "        \n",
    "        # Checking the condition for positive, negative, or zero\n",
    "        if num > 0:\n",
    "            print(f\"{num} is a positive number.\")\n",
    "        elif num < 0:\n",
    "            print(f\"{num} is a negative number.\")\n",
    "        else:\n",
    "            print(f\"{num} is zero.\")\n",
    "    except ValueError:\n",
    "        print(\"Invalid input! Please enter a valid number.\")\n",
    "\n",
    "# Call the function\n",
    "check_number()\n"
   ]
  },
  {
   "cell_type": "code",
   "execution_count": 40,
   "id": "3ab0fe0c-3134-42e6-91cf-ceda7f46db62",
   "metadata": {},
   "outputs": [
    {
     "name": "stdout",
     "output_type": "stream",
     "text": [
      "1\n",
      "2\n",
      "3\n",
      "4\n",
      "5\n",
      "6\n",
      "7\n",
      "8\n",
      "9\n",
      "10\n"
     ]
    }
   ],
   "source": [
    "#Question(12)\n",
    "# Using a for loop to print numbers from 1 to 10\n",
    "for i in range(1, 11):\n",
    "    print(i)\n"
   ]
  },
  {
   "cell_type": "code",
   "execution_count": 44,
   "id": "be6d531b-d82d-4705-a4d5-4761f30d37bc",
   "metadata": {},
   "outputs": [
    {
     "name": "stdout",
     "output_type": "stream",
     "text": [
      "The sum of all even numbers between 1 and 50 is: 650\n"
     ]
    }
   ],
   "source": [
    "#Question (13)\n",
    "# Function to find the sum of all even numbers between 1 and 50\n",
    "def sum_of_even_numbers():\n",
    "    # Initialize the sum variable\n",
    "    total_sum = 0\n",
    "\n",
    "    # Loop through numbers from 1 to 50\n",
    "    for num in range(1, 51):\n",
    "        if num % 2 == 0:  # Check if the number is even\n",
    "            total_sum += num  # Add the even number to the sum\n",
    "    \n",
    "    print(f\"The sum of all even numbers between 1 and 50 is: {total_sum}\")\n",
    "\n",
    "# Call the function\n",
    "sum_of_even_numbers()\n"
   ]
  },
  {
   "cell_type": "code",
   "execution_count": 46,
   "id": "9f4c0522-e256-4c90-acb8-54d0971097aa",
   "metadata": {},
   "outputs": [
    {
     "name": "stdin",
     "output_type": "stream",
     "text": [
      "Enter a string to reverse:  abdullah\n"
     ]
    },
    {
     "name": "stdout",
     "output_type": "stream",
     "text": [
      "Reversed string: halludba\n"
     ]
    }
   ],
   "source": [
    "# Question (14)\n",
    "# Function to reverse a string using a while loop\n",
    "def reverse_string(input_string):\n",
    "    # Initialize an empty string to store the reversed string\n",
    "    reversed_string = \"\"\n",
    "    \n",
    "    # Set the index to the last character of the string\n",
    "    index = len(input_string) - 1\n",
    "    \n",
    "    # Loop through the string in reverse order\n",
    "    while index >= 0:\n",
    "        reversed_string += input_string[index]  # Add each character to reversed_string\n",
    "        index -= 1  # Move to the previous character\n",
    "    \n",
    "    return reversed_string\n",
    "\n",
    "# Input from the user\n",
    "user_input = input(\"Enter a string to reverse: \")\n",
    "\n",
    "# Call the function and display the reversed string\n",
    "print(f\"Reversed string: {reverse_string(user_input)}\")\n"
   ]
  },
  {
   "cell_type": "code",
   "execution_count": null,
   "id": "d5fa2477-5fe1-4acb-9988-3c0d9cfdf086",
   "metadata": {},
   "outputs": [],
   "source": [
    "# Question (1)"
   ]
  },
  {
   "cell_type": "code",
   "execution_count": null,
   "id": "8295bdaf-43f8-4c21-9f7f-fb3fd9f95ba1",
   "metadata": {},
   "outputs": [],
   "source": []
  },
  {
   "cell_type": "code",
   "execution_count": null,
   "id": "7552ca6f-574c-4226-882d-1408d0b26f3d",
   "metadata": {},
   "outputs": [],
   "source": []
  },
  {
   "cell_type": "code",
   "execution_count": null,
   "id": "4a04cf99-bfd3-45fd-a2b3-2cb297351de8",
   "metadata": {},
   "outputs": [],
   "source": []
  },
  {
   "cell_type": "code",
   "execution_count": null,
   "id": "7c6b93dc-00c9-4351-8101-75b3a112a5a1",
   "metadata": {},
   "outputs": [],
   "source": []
  },
  {
   "cell_type": "code",
   "execution_count": null,
   "id": "ca68caa6-1590-4db9-ae52-ae4985b0dd01",
   "metadata": {},
   "outputs": [],
   "source": []
  },
  {
   "cell_type": "code",
   "execution_count": null,
   "id": "564a3cad-4cd1-4233-8a9c-a772fc9222f3",
   "metadata": {},
   "outputs": [],
   "source": []
  },
  {
   "cell_type": "code",
   "execution_count": null,
   "id": "1d9c7855-6f89-4df0-a53f-1b9cc34de8aa",
   "metadata": {},
   "outputs": [],
   "source": []
  },
  {
   "cell_type": "code",
   "execution_count": null,
   "id": "7583ee3c-c743-4f93-9213-5af61b205b55",
   "metadata": {},
   "outputs": [],
   "source": []
  },
  {
   "cell_type": "code",
   "execution_count": null,
   "id": "129824f4-bbbd-42e5-bb06-4f422574f69d",
   "metadata": {},
   "outputs": [],
   "source": []
  },
  {
   "cell_type": "code",
   "execution_count": null,
   "id": "16b08360-cd3b-40dc-8d93-6c145931fb85",
   "metadata": {},
   "outputs": [],
   "source": []
  },
  {
   "cell_type": "code",
   "execution_count": null,
   "id": "77048407-43cc-48c5-8c29-18b1e1895fec",
   "metadata": {},
   "outputs": [],
   "source": []
  },
  {
   "cell_type": "code",
   "execution_count": null,
   "id": "1874b8bf-34f9-4ca2-b7cb-fa018e864492",
   "metadata": {},
   "outputs": [],
   "source": []
  }
 ],
 "metadata": {
  "kernelspec": {
   "display_name": "Python 3 (ipykernel)",
   "language": "python",
   "name": "python3"
  },
  "language_info": {
   "codemirror_mode": {
    "name": "ipython",
    "version": 3
   },
   "file_extension": ".py",
   "mimetype": "text/x-python",
   "name": "python",
   "nbconvert_exporter": "python",
   "pygments_lexer": "ipython3",
   "version": "3.12.7"
  }
 },
 "nbformat": 4,
 "nbformat_minor": 5
}
